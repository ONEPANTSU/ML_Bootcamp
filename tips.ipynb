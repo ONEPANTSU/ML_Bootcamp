{
 "cells": [
  {
   "cell_type": "markdown",
   "id": "95bf62c9",
   "metadata": {},
   "source": [
    "# Tips\n",
    "ML tips for newbie.\n",
    "___\n",
    "<i>Note for Jupyter Notebook:</i>\n",
    "\n",
    "- a - new cell above\n",
    "- b - new cell below\n",
    "- dd - delete cell\n",
    "- m - markdown mode\n",
    "- y - code mode\n",
    "___\n",
    "<i>Note for Conda:</i>\n",
    "\n",
    "- create an environment: `conda create --prefix ./env pandas numpy matplotlib scikit-learn`\n",
    "- install the package: `conda install jupyter`\n",
    "- export the environment: `conda env export --prefix ./env > environment.yml`\n",
    "- import the environment: `conda env create --file environment.yml --name env`"
   ]
  },
  {
   "cell_type": "markdown",
   "id": "6b7382e7",
   "metadata": {},
   "source": [
    "## Steps (ML Framework)\n",
    "![](6-step-ml-framework.png)"
   ]
  }
 ],
 "metadata": {
  "kernelspec": {
   "display_name": "Python 3 (ipykernel)",
   "language": "python",
   "name": "python3"
  },
  "language_info": {
   "codemirror_mode": {
    "name": "ipython",
    "version": 3
   },
   "file_extension": ".py",
   "mimetype": "text/x-python",
   "name": "python",
   "nbconvert_exporter": "python",
   "pygments_lexer": "ipython3",
   "version": "3.10.12"
  }
 },
 "nbformat": 4,
 "nbformat_minor": 5
}
